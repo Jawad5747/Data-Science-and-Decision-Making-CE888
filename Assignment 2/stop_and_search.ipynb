{
  "nbformat": 4,
  "nbformat_minor": 0,
  "metadata": {
    "colab": {
      "name": "stop_and_search.ipynb",
      "provenance": [],
      "collapsed_sections": [],
      "include_colab_link": true
    },
    "kernelspec": {
      "name": "python3",
      "display_name": "Python 3"
    },
    "language_info": {
      "name": "python"
    }
  },
  "cells": [
    {
      "cell_type": "markdown",
      "metadata": {
        "id": "view-in-github",
        "colab_type": "text"
      },
      "source": [
        "<a href=\"https://colab.research.google.com/github/Jawad5747/Data-Science-and-Decision-Making-CE888/blob/main/Assignment%202/stop_and_search.ipynb\" target=\"_parent\"><img src=\"https://colab.research.google.com/assets/colab-badge.svg\" alt=\"Open In Colab\"/></a>"
      ]
    },
    {
      "cell_type": "code",
      "metadata": {
        "id": "U9aIKYhIKifC"
      },
      "source": [
        "import pandas as pd\n",
        "import numpy as np\n",
        "import matplotlib.pyplot as plt\n",
        "%matplotlib inline\n",
        "\n",
        "figsize = (16,8)"
      ],
      "execution_count": null,
      "outputs": []
    },
    {
      "cell_type": "code",
      "metadata": {
        "id": "_rOoYUB3GSP-"
      },
      "source": [
        "from google.colab import drive\n",
        "drive.mount('/content/drive')"
      ],
      "execution_count": null,
      "outputs": []
    },
    {
      "cell_type": "code",
      "metadata": {
        "colab": {
          "base_uri": "https://localhost:8080/",
          "height": 343
        },
        "id": "8AnvPuDyMsDQ",
        "outputId": "cba6b1ee-725e-4951-dcd7-340fe54ce060"
      },
      "source": [
        "\n",
        "df_vt = pd.read_csv('/content/drive/MyDrive/stop-and-search.csv')\n",
        "df_vt.head()\n"
      ],
      "execution_count": null,
      "outputs": [
        {
          "output_type": "stream",
          "text": [
            "/usr/local/lib/python3.7/dist-packages/IPython/core/interactiveshell.py:2718: DtypeWarning: Columns (12) have mixed types.Specify dtype option on import or set low_memory=False.\n",
            "  interactivity=interactivity, compiler=compiler, result=result)\n"
          ],
          "name": "stderr"
        },
        {
          "output_type": "execute_result",
          "data": {
            "text/html": [
              "<div>\n",
              "<style scoped>\n",
              "    .dataframe tbody tr th:only-of-type {\n",
              "        vertical-align: middle;\n",
              "    }\n",
              "\n",
              "    .dataframe tbody tr th {\n",
              "        vertical-align: top;\n",
              "    }\n",
              "\n",
              "    .dataframe thead th {\n",
              "        text-align: right;\n",
              "    }\n",
              "</style>\n",
              "<table border=\"1\" class=\"dataframe\">\n",
              "  <thead>\n",
              "    <tr style=\"text-align: right;\">\n",
              "      <th></th>\n",
              "      <th>stop_date</th>\n",
              "      <th>stop_time</th>\n",
              "      <th>driver_gender</th>\n",
              "      <th>driver_age_raw</th>\n",
              "      <th>driver_age</th>\n",
              "      <th>driver_race_raw</th>\n",
              "      <th>driver_race</th>\n",
              "      <th>violation_raw</th>\n",
              "      <th>violation</th>\n",
              "      <th>search_conducted</th>\n",
              "      <th>search_type_raw</th>\n",
              "      <th>search_type</th>\n",
              "      <th>contraband_found</th>\n",
              "      <th>stop_outcome</th>\n",
              "      <th>is_arrested</th>\n",
              "      <th>officer_id</th>\n",
              "    </tr>\n",
              "  </thead>\n",
              "  <tbody>\n",
              "    <tr>\n",
              "      <th>0</th>\n",
              "      <td>01/07/2010</td>\n",
              "      <td>0:10</td>\n",
              "      <td>M</td>\n",
              "      <td>22.0</td>\n",
              "      <td>22.0</td>\n",
              "      <td>White</td>\n",
              "      <td>White</td>\n",
              "      <td>Moving Violation</td>\n",
              "      <td>Moving violation</td>\n",
              "      <td>False</td>\n",
              "      <td>No Search Conducted</td>\n",
              "      <td>NaN</td>\n",
              "      <td>False</td>\n",
              "      <td>Citation</td>\n",
              "      <td>False</td>\n",
              "      <td>-1.562157e+09</td>\n",
              "    </tr>\n",
              "    <tr>\n",
              "      <th>1</th>\n",
              "      <td>01/07/2010</td>\n",
              "      <td>0:10</td>\n",
              "      <td>F</td>\n",
              "      <td>21.0</td>\n",
              "      <td>21.0</td>\n",
              "      <td>White</td>\n",
              "      <td>White</td>\n",
              "      <td>Externally Generated Stop</td>\n",
              "      <td>Other</td>\n",
              "      <td>False</td>\n",
              "      <td>No Search Conducted</td>\n",
              "      <td>NaN</td>\n",
              "      <td>False</td>\n",
              "      <td>Arrest for Violation</td>\n",
              "      <td>True</td>\n",
              "      <td>-1.562157e+09</td>\n",
              "    </tr>\n",
              "    <tr>\n",
              "      <th>2</th>\n",
              "      <td>01/07/2010</td>\n",
              "      <td>0:10</td>\n",
              "      <td>F</td>\n",
              "      <td>21.0</td>\n",
              "      <td>21.0</td>\n",
              "      <td>White</td>\n",
              "      <td>White</td>\n",
              "      <td>Externally Generated Stop</td>\n",
              "      <td>Other</td>\n",
              "      <td>False</td>\n",
              "      <td>No Search Conducted</td>\n",
              "      <td>NaN</td>\n",
              "      <td>False</td>\n",
              "      <td>Arrest for Violation</td>\n",
              "      <td>True</td>\n",
              "      <td>-1.562157e+09</td>\n",
              "    </tr>\n",
              "    <tr>\n",
              "      <th>3</th>\n",
              "      <td>01/07/2010</td>\n",
              "      <td>0:11</td>\n",
              "      <td>F</td>\n",
              "      <td>18.0</td>\n",
              "      <td>18.0</td>\n",
              "      <td>White</td>\n",
              "      <td>White</td>\n",
              "      <td>Moving Violation</td>\n",
              "      <td>Moving violation</td>\n",
              "      <td>False</td>\n",
              "      <td>No Search Conducted</td>\n",
              "      <td>NaN</td>\n",
              "      <td>False</td>\n",
              "      <td>Arrest for Violation</td>\n",
              "      <td>True</td>\n",
              "      <td>-3.126844e+08</td>\n",
              "    </tr>\n",
              "    <tr>\n",
              "      <th>4</th>\n",
              "      <td>01/07/2010</td>\n",
              "      <td>0:35</td>\n",
              "      <td>M</td>\n",
              "      <td>18.0</td>\n",
              "      <td>18.0</td>\n",
              "      <td>White</td>\n",
              "      <td>White</td>\n",
              "      <td>Moving Violation</td>\n",
              "      <td>Moving violation</td>\n",
              "      <td>False</td>\n",
              "      <td>No Search Conducted</td>\n",
              "      <td>NaN</td>\n",
              "      <td>False</td>\n",
              "      <td>Written Warning</td>\n",
              "      <td>False</td>\n",
              "      <td>9.225661e+08</td>\n",
              "    </tr>\n",
              "  </tbody>\n",
              "</table>\n",
              "</div>"
            ],
            "text/plain": [
              "    stop_date stop_time  ... is_arrested    officer_id\n",
              "0  01/07/2010      0:10  ...       False -1.562157e+09\n",
              "1  01/07/2010      0:10  ...        True -1.562157e+09\n",
              "2  01/07/2010      0:10  ...        True -1.562157e+09\n",
              "3  01/07/2010      0:11  ...        True -3.126844e+08\n",
              "4  01/07/2010      0:35  ...       False  9.225661e+08\n",
              "\n",
              "[5 rows x 16 columns]"
            ]
          },
          "metadata": {
            "tags": []
          },
          "execution_count": 11
        }
      ]
    },
    {
      "cell_type": "code",
      "metadata": {
        "colab": {
          "base_uri": "https://localhost:8080/"
        },
        "id": "BC4SmWGxM95d",
        "outputId": "6b8b86bc-f0c0-4d8b-8775-19466a5fcdbf"
      },
      "source": [
        "df_vt.columns\n"
      ],
      "execution_count": null,
      "outputs": [
        {
          "output_type": "execute_result",
          "data": {
            "text/plain": [
              "Index(['stop_date', 'stop_time', 'driver_gender', 'driver_age_raw',\n",
              "       'driver_age', 'driver_race_raw', 'driver_race', 'violation_raw',\n",
              "       'violation', 'search_conducted', 'search_type_raw', 'search_type',\n",
              "       'contraband_found', 'stop_outcome', 'is_arrested', 'officer_id'],\n",
              "      dtype='object')"
            ]
          },
          "metadata": {
            "tags": []
          },
          "execution_count": 12
        }
      ]
    },
    {
      "cell_type": "code",
      "metadata": {
        "colab": {
          "base_uri": "https://localhost:8080/"
        },
        "id": "tGI2_vhxNAud",
        "outputId": "8816b651-0f76-428a-82a3-a50728150f0c"
      },
      "source": [
        "df_vt.count()\n",
        "# Fill missing search type values with placeholder\n",
        "df_vt['search_type'].fillna('N/A', inplace=True)\n",
        "\n",
        "# Drop rows with missing values\n",
        "df_vt.dropna(inplace=True)\n",
        "\n",
        "df_vt.count()"
      ],
      "execution_count": null,
      "outputs": [
        {
          "output_type": "execute_result",
          "data": {
            "text/plain": [
              "stop_date           274054\n",
              "stop_time           274054\n",
              "driver_gender       274054\n",
              "driver_age_raw      274054\n",
              "driver_age          274054\n",
              "driver_race_raw     274054\n",
              "driver_race         274054\n",
              "violation_raw       274054\n",
              "violation           274054\n",
              "search_conducted    274054\n",
              "search_type_raw     274054\n",
              "search_type         274054\n",
              "contraband_found    274054\n",
              "stop_outcome        274054\n",
              "is_arrested         274054\n",
              "officer_id          274054\n",
              "dtype: int64"
            ]
          },
          "metadata": {
            "tags": []
          },
          "execution_count": 13
        }
      ]
    },
    {
      "cell_type": "code",
      "metadata": {
        "colab": {
          "base_uri": "https://localhost:8080/"
        },
        "id": "Efns5GP1VDiK",
        "outputId": "963e8db9-1695-4aa6-853a-6208e99bf987"
      },
      "source": [
        "# check out the stop reasons of traffic\n",
        "df_vt['violation'].value_counts()\n"
      ],
      "execution_count": null,
      "outputs": [
        {
          "output_type": "execute_result",
          "data": {
            "text/plain": [
              "Moving violation      212809\n",
              "Equipment              50711\n",
              "Other                   9808\n",
              "DUI                      724\n",
              "Other (non-mapped)         2\n",
              "Name: violation, dtype: int64"
            ]
          },
          "metadata": {
            "tags": []
          },
          "execution_count": 14
        }
      ]
    },
    {
      "cell_type": "code",
      "metadata": {
        "colab": {
          "base_uri": "https://localhost:8080/"
        },
        "id": "b9enchSfVY7Z",
        "outputId": "071af83c-6cd8-45c5-d1b4-98778562f28f"
      },
      "source": [
        "# stop outcome explore \n",
        "df_vt['stop_outcome'].value_counts()"
      ],
      "execution_count": null,
      "outputs": [
        {
          "output_type": "execute_result",
          "data": {
            "text/plain": [
              "Written Warning         166973\n",
              "Citation                103770\n",
              "Arrest for Violation      3225\n",
              "Warrant Arrest              76\n",
              "Verbal Warning              10\n",
              "Name: stop_outcome, dtype: int64"
            ]
          },
          "metadata": {
            "tags": []
          },
          "execution_count": 15
        }
      ]
    },
    {
      "cell_type": "code",
      "metadata": {
        "colab": {
          "base_uri": "https://localhost:8080/"
        },
        "id": "KscbeROzVhwl",
        "outputId": "31340d39-b607-4111-caca-c5d459a599ae"
      },
      "source": [
        "df_vt['driver_gender'].value_counts()\n"
      ],
      "execution_count": null,
      "outputs": [
        {
          "output_type": "execute_result",
          "data": {
            "text/plain": [
              "M    174672\n",
              "F     99382\n",
              "Name: driver_gender, dtype: int64"
            ]
          },
          "metadata": {
            "tags": []
          },
          "execution_count": 16
        }
      ]
    },
    {
      "cell_type": "code",
      "metadata": {
        "colab": {
          "base_uri": "https://localhost:8080/"
        },
        "id": "BmwSZ31lVKra",
        "outputId": "5fc7730f-944b-4d3a-f4a9-11f49ed6b252"
      },
      "source": [
        "df_vt['driver_race'].value_counts()\n"
      ],
      "execution_count": null,
      "outputs": [
        {
          "output_type": "execute_result",
          "data": {
            "text/plain": [
              "White       262184\n",
              "Black         5586\n",
              "Asian         3451\n",
              "Hispanic      2568\n",
              "Other          265\n",
              "Name: driver_race, dtype: int64"
            ]
          },
          "metadata": {
            "tags": []
          },
          "execution_count": 17
        }
      ]
    },
    {
      "cell_type": "code",
      "metadata": {
        "colab": {
          "base_uri": "https://localhost:8080/",
          "height": 282
        },
        "id": "zewc67IYVq9O",
        "outputId": "a6ff1963-4445-4111-c5af-1482630d1a78"
      },
      "source": [
        "fig, ax = plt.subplots()\n",
        "ax.set_xlim(15, 70)\n",
        "for race in df_vt['driver_race'].unique():\n",
        "    s = df_vt[df_vt['driver_race'] == race]['driver_age']\n",
        "    s.plot.kde(ax=ax, label=race)\n",
        "ax.legend()"
      ],
      "execution_count": null,
      "outputs": [
        {
          "output_type": "execute_result",
          "data": {
            "text/plain": [
              "<matplotlib.legend.Legend at 0x7f6f5f3db750>"
            ]
          },
          "metadata": {
            "tags": []
          },
          "execution_count": 18
        },
        {
          "output_type": "display_data",
          "data": {
            "image/png": "[encoded data removed]",
            "text/plain": [
              "<Figure size 432x288 with 1 Axes>"
            ]
          },
          "metadata": {
            "tags": [],
            "needs_background": "light"
          }
        }
      ]
    },
    {
      "cell_type": "code",
      "metadata": {
        "id": "LnOczReRVyDO"
      },
      "source": [
        "def compute_outcome_stats(df):\n",
        "    \"\"\"Compute statistics regarding the relative quanties of arrests, warnings, and citations\"\"\"\n",
        "    n_total = len(df)\n",
        "    n_warnings = len(df[df['stop_outcome'] == 'Written Warning'])\n",
        "    n_citations = len(df[df['stop_outcome'] == 'Citation'])\n",
        "    n_arrests = len(df[df['stop_outcome'] == 'Arrest for Violation'])\n",
        "    citations_per_warning = n_citations / n_warnings\n",
        "    arrest_rate = n_arrests / n_total\n",
        "\n",
        "    return(pd.Series(data = {\n",
        "        'n_total': n_total,\n",
        "        'n_warnings': n_warnings,\n",
        "        'n_citations': n_citations,\n",
        "        'n_arrests': n_arrests,\n",
        "        'citations_per_warning': citations_per_warning,\n",
        "        'arrest_rate': arrest_rate\n",
        "    }))"
      ],
      "execution_count": null,
      "outputs": []
    },
    {
      "cell_type": "code",
      "metadata": {
        "colab": {
          "base_uri": "https://localhost:8080/"
        },
        "id": "I3Y5g8EgV6xC",
        "outputId": "24643909-785f-4b46-f401-ce64b367ac9d"
      },
      "source": [
        "compute_outcome_stats(df_vt)"
      ],
      "execution_count": null,
      "outputs": [
        {
          "output_type": "execute_result",
          "data": {
            "text/plain": [
              "n_total                  274054.000000\n",
              "n_warnings               166973.000000\n",
              "n_citations              103770.000000\n",
              "n_arrests                  3225.000000\n",
              "citations_per_warning         0.621478\n",
              "arrest_rate                   0.011768\n",
              "dtype: float64"
            ]
          },
          "metadata": {
            "tags": []
          },
          "execution_count": 21
        }
      ]
    },
    {
      "cell_type": "code",
      "metadata": {
        "colab": {
          "base_uri": "https://localhost:8080/",
          "height": 142
        },
        "id": "D3HJaZorV_ZG",
        "outputId": "78b552c3-a2c9-4c57-826d-8e1c530ab606"
      },
      "source": [
        "df_vt.groupby('driver_gender').apply(compute_outcome_stats)\n"
      ],
      "execution_count": null,
      "outputs": [
        {
          "output_type": "execute_result",
          "data": {
            "text/html": [
              "<div>\n",
              "<style scoped>\n",
              "    .dataframe tbody tr th:only-of-type {\n",
              "        vertical-align: middle;\n",
              "    }\n",
              "\n",
              "    .dataframe tbody tr th {\n",
              "        vertical-align: top;\n",
              "    }\n",
              "\n",
              "    .dataframe thead th {\n",
              "        text-align: right;\n",
              "    }\n",
              "</style>\n",
              "<table border=\"1\" class=\"dataframe\">\n",
              "  <thead>\n",
              "    <tr style=\"text-align: right;\">\n",
              "      <th></th>\n",
              "      <th>n_total</th>\n",
              "      <th>n_warnings</th>\n",
              "      <th>n_citations</th>\n",
              "      <th>n_arrests</th>\n",
              "      <th>citations_per_warning</th>\n",
              "      <th>arrest_rate</th>\n",
              "    </tr>\n",
              "    <tr>\n",
              "      <th>driver_gender</th>\n",
              "      <th></th>\n",
              "      <th></th>\n",
              "      <th></th>\n",
              "      <th></th>\n",
              "      <th></th>\n",
              "      <th></th>\n",
              "    </tr>\n",
              "  </thead>\n",
              "  <tbody>\n",
              "    <tr>\n",
              "      <th>F</th>\n",
              "      <td>99382.0</td>\n",
              "      <td>63696.0</td>\n",
              "      <td>34958.0</td>\n",
              "      <td>703.0</td>\n",
              "      <td>0.548826</td>\n",
              "      <td>0.007074</td>\n",
              "    </tr>\n",
              "    <tr>\n",
              "      <th>M</th>\n",
              "      <td>174672.0</td>\n",
              "      <td>103277.0</td>\n",
              "      <td>68812.0</td>\n",
              "      <td>2522.0</td>\n",
              "      <td>0.666286</td>\n",
              "      <td>0.014438</td>\n",
              "    </tr>\n",
              "  </tbody>\n",
              "</table>\n",
              "</div>"
            ],
            "text/plain": [
              "                n_total  n_warnings  ...  citations_per_warning  arrest_rate\n",
              "driver_gender                        ...                                    \n",
              "F               99382.0     63696.0  ...               0.548826     0.007074\n",
              "M              174672.0    103277.0  ...               0.666286     0.014438\n",
              "\n",
              "[2 rows x 6 columns]"
            ]
          },
          "metadata": {
            "tags": []
          },
          "execution_count": 22
        }
      ]
    },
    {
      "cell_type": "code",
      "metadata": {
        "colab": {
          "base_uri": "https://localhost:8080/",
          "height": 235
        },
        "id": "BEZSFbWFWDZg",
        "outputId": "0fe2f90d-5252-483a-ee46-f131a2a6f411"
      },
      "source": [
        "df_vt.groupby('driver_race').apply(compute_outcome_stats)\n"
      ],
      "execution_count": null,
      "outputs": [
        {
          "output_type": "execute_result",
          "data": {
            "text/html": [
              "<div>\n",
              "<style scoped>\n",
              "    .dataframe tbody tr th:only-of-type {\n",
              "        vertical-align: middle;\n",
              "    }\n",
              "\n",
              "    .dataframe tbody tr th {\n",
              "        vertical-align: top;\n",
              "    }\n",
              "\n",
              "    .dataframe thead th {\n",
              "        text-align: right;\n",
              "    }\n",
              "</style>\n",
              "<table border=\"1\" class=\"dataframe\">\n",
              "  <thead>\n",
              "    <tr style=\"text-align: right;\">\n",
              "      <th></th>\n",
              "      <th>n_total</th>\n",
              "      <th>n_warnings</th>\n",
              "      <th>n_citations</th>\n",
              "      <th>n_arrests</th>\n",
              "      <th>citations_per_warning</th>\n",
              "      <th>arrest_rate</th>\n",
              "    </tr>\n",
              "    <tr>\n",
              "      <th>driver_race</th>\n",
              "      <th></th>\n",
              "      <th></th>\n",
              "      <th></th>\n",
              "      <th></th>\n",
              "      <th></th>\n",
              "      <th></th>\n",
              "    </tr>\n",
              "  </thead>\n",
              "  <tbody>\n",
              "    <tr>\n",
              "      <th>Asian</th>\n",
              "      <td>3451.0</td>\n",
              "      <td>1711.0</td>\n",
              "      <td>1718.0</td>\n",
              "      <td>22.0</td>\n",
              "      <td>1.004091</td>\n",
              "      <td>0.006375</td>\n",
              "    </tr>\n",
              "    <tr>\n",
              "      <th>Black</th>\n",
              "      <td>5586.0</td>\n",
              "      <td>3029.0</td>\n",
              "      <td>2439.0</td>\n",
              "      <td>112.0</td>\n",
              "      <td>0.805216</td>\n",
              "      <td>0.020050</td>\n",
              "    </tr>\n",
              "    <tr>\n",
              "      <th>Hispanic</th>\n",
              "      <td>2568.0</td>\n",
              "      <td>1351.0</td>\n",
              "      <td>1171.0</td>\n",
              "      <td>43.0</td>\n",
              "      <td>0.866765</td>\n",
              "      <td>0.016745</td>\n",
              "    </tr>\n",
              "    <tr>\n",
              "      <th>Other</th>\n",
              "      <td>265.0</td>\n",
              "      <td>126.0</td>\n",
              "      <td>132.0</td>\n",
              "      <td>7.0</td>\n",
              "      <td>1.047619</td>\n",
              "      <td>0.026415</td>\n",
              "    </tr>\n",
              "    <tr>\n",
              "      <th>White</th>\n",
              "      <td>262184.0</td>\n",
              "      <td>160756.0</td>\n",
              "      <td>98310.0</td>\n",
              "      <td>3041.0</td>\n",
              "      <td>0.611548</td>\n",
              "      <td>0.011599</td>\n",
              "    </tr>\n",
              "  </tbody>\n",
              "</table>\n",
              "</div>"
            ],
            "text/plain": [
              "              n_total  n_warnings  ...  citations_per_warning  arrest_rate\n",
              "driver_race                        ...                                    \n",
              "Asian          3451.0      1711.0  ...               1.004091     0.006375\n",
              "Black          5586.0      3029.0  ...               0.805216     0.020050\n",
              "Hispanic       2568.0      1351.0  ...               0.866765     0.016745\n",
              "Other           265.0       126.0  ...               1.047619     0.026415\n",
              "White        262184.0    160756.0  ...               0.611548     0.011599\n",
              "\n",
              "[5 rows x 6 columns]"
            ]
          },
          "metadata": {
            "tags": []
          },
          "execution_count": 23
        }
      ]
    },
    {
      "cell_type": "code",
      "metadata": {
        "colab": {
          "base_uri": "https://localhost:8080/",
          "height": 502
        },
        "id": "I3LP5TrxWG2L",
        "outputId": "e0f0af44-7e1d-41ce-9bc8-62a3a54bdc0b"
      },
      "source": [
        "race_agg = df_vt.groupby(['driver_race']).apply(compute_outcome_stats)\n",
        "fig, axes = plt.subplots(nrows=2, ncols=1, figsize=figsize)\n",
        "race_agg['citations_per_warning'].plot.barh(ax=axes[0], figsize=figsize, title=\"Citation Rate By Race\")\n",
        "race_agg['arrest_rate'].plot.barh(ax=axes[1], figsize=figsize, title='Arrest Rate By Race')"
      ],
      "execution_count": null,
      "outputs": [
        {
          "output_type": "execute_result",
          "data": {
            "text/plain": [
              "<matplotlib.axes._subplots.AxesSubplot at 0x7f6f54688050>"
            ]
          },
          "metadata": {
            "tags": []
          },
          "execution_count": 24
        },
        {
          "output_type": "display_data",
          "data": {
            "image/png": "[encoded data removed]",
            "text/plain": [
              "<Figure size 1152x576 with 2 Axes>"
            ]
          },
          "metadata": {
            "tags": [],
            "needs_background": "light"
          }
        }
      ]
    },
    {
      "cell_type": "code",
      "metadata": {
        "colab": {
          "base_uri": "https://localhost:8080/",
          "height": 700
        },
        "id": "m_SibL46WLX4",
        "outputId": "0d86a6ce-0d9f-4c8c-c9a2-7283eb0ddec6"
      },
      "source": [
        "df_vt.groupby(['driver_race','violation']).apply(compute_outcome_stats)\n"
      ],
      "execution_count": null,
      "outputs": [
        {
          "output_type": "execute_result",
          "data": {
            "text/html": [
              "<div>\n",
              "<style scoped>\n",
              "    .dataframe tbody tr th:only-of-type {\n",
              "        vertical-align: middle;\n",
              "    }\n",
              "\n",
              "    .dataframe tbody tr th {\n",
              "        vertical-align: top;\n",
              "    }\n",
              "\n",
              "    .dataframe thead th {\n",
              "        text-align: right;\n",
              "    }\n",
              "</style>\n",
              "<table border=\"1\" class=\"dataframe\">\n",
              "  <thead>\n",
              "    <tr style=\"text-align: right;\">\n",
              "      <th></th>\n",
              "      <th></th>\n",
              "      <th>n_total</th>\n",
              "      <th>n_warnings</th>\n",
              "      <th>n_citations</th>\n",
              "      <th>n_arrests</th>\n",
              "      <th>citations_per_warning</th>\n",
              "      <th>arrest_rate</th>\n",
              "    </tr>\n",
              "    <tr>\n",
              "      <th>driver_race</th>\n",
              "      <th>violation</th>\n",
              "      <th></th>\n",
              "      <th></th>\n",
              "      <th></th>\n",
              "      <th></th>\n",
              "      <th></th>\n",
              "      <th></th>\n",
              "    </tr>\n",
              "  </thead>\n",
              "  <tbody>\n",
              "    <tr>\n",
              "      <th rowspan=\"4\" valign=\"top\">Asian</th>\n",
              "      <th>DUI</th>\n",
              "      <td>10.0</td>\n",
              "      <td>6.0</td>\n",
              "      <td>2.0</td>\n",
              "      <td>2.0</td>\n",
              "      <td>0.333333</td>\n",
              "      <td>0.200000</td>\n",
              "    </tr>\n",
              "    <tr>\n",
              "      <th>Equipment</th>\n",
              "      <td>319.0</td>\n",
              "      <td>280.0</td>\n",
              "      <td>37.0</td>\n",
              "      <td>2.0</td>\n",
              "      <td>0.132143</td>\n",
              "      <td>0.006270</td>\n",
              "    </tr>\n",
              "    <tr>\n",
              "      <th>Moving violation</th>\n",
              "      <td>3061.0</td>\n",
              "      <td>1393.0</td>\n",
              "      <td>1651.0</td>\n",
              "      <td>17.0</td>\n",
              "      <td>1.185212</td>\n",
              "      <td>0.005554</td>\n",
              "    </tr>\n",
              "    <tr>\n",
              "      <th>Other</th>\n",
              "      <td>61.0</td>\n",
              "      <td>32.0</td>\n",
              "      <td>28.0</td>\n",
              "      <td>1.0</td>\n",
              "      <td>0.875000</td>\n",
              "      <td>0.016393</td>\n",
              "    </tr>\n",
              "    <tr>\n",
              "      <th rowspan=\"4\" valign=\"top\">Black</th>\n",
              "      <th>DUI</th>\n",
              "      <td>11.0</td>\n",
              "      <td>7.0</td>\n",
              "      <td>1.0</td>\n",
              "      <td>3.0</td>\n",
              "      <td>0.142857</td>\n",
              "      <td>0.272727</td>\n",
              "    </tr>\n",
              "    <tr>\n",
              "      <th>Equipment</th>\n",
              "      <td>893.0</td>\n",
              "      <td>707.0</td>\n",
              "      <td>158.0</td>\n",
              "      <td>26.0</td>\n",
              "      <td>0.223479</td>\n",
              "      <td>0.029115</td>\n",
              "    </tr>\n",
              "    <tr>\n",
              "      <th>Moving violation</th>\n",
              "      <td>4435.0</td>\n",
              "      <td>2242.0</td>\n",
              "      <td>2119.0</td>\n",
              "      <td>71.0</td>\n",
              "      <td>0.945138</td>\n",
              "      <td>0.016009</td>\n",
              "    </tr>\n",
              "    <tr>\n",
              "      <th>Other</th>\n",
              "      <td>247.0</td>\n",
              "      <td>73.0</td>\n",
              "      <td>161.0</td>\n",
              "      <td>12.0</td>\n",
              "      <td>2.205479</td>\n",
              "      <td>0.048583</td>\n",
              "    </tr>\n",
              "    <tr>\n",
              "      <th rowspan=\"4\" valign=\"top\">Hispanic</th>\n",
              "      <th>DUI</th>\n",
              "      <td>10.0</td>\n",
              "      <td>2.0</td>\n",
              "      <td>6.0</td>\n",
              "      <td>2.0</td>\n",
              "      <td>3.000000</td>\n",
              "      <td>0.200000</td>\n",
              "    </tr>\n",
              "    <tr>\n",
              "      <th>Equipment</th>\n",
              "      <td>383.0</td>\n",
              "      <td>315.0</td>\n",
              "      <td>59.0</td>\n",
              "      <td>9.0</td>\n",
              "      <td>0.187302</td>\n",
              "      <td>0.023499</td>\n",
              "    </tr>\n",
              "    <tr>\n",
              "      <th>Moving violation</th>\n",
              "      <td>2095.0</td>\n",
              "      <td>1003.0</td>\n",
              "      <td>1064.0</td>\n",
              "      <td>26.0</td>\n",
              "      <td>1.060818</td>\n",
              "      <td>0.012411</td>\n",
              "    </tr>\n",
              "    <tr>\n",
              "      <th>Other</th>\n",
              "      <td>80.0</td>\n",
              "      <td>31.0</td>\n",
              "      <td>42.0</td>\n",
              "      <td>6.0</td>\n",
              "      <td>1.354839</td>\n",
              "      <td>0.075000</td>\n",
              "    </tr>\n",
              "    <tr>\n",
              "      <th rowspan=\"3\" valign=\"top\">Other</th>\n",
              "      <th>Equipment</th>\n",
              "      <td>43.0</td>\n",
              "      <td>32.0</td>\n",
              "      <td>8.0</td>\n",
              "      <td>3.0</td>\n",
              "      <td>0.250000</td>\n",
              "      <td>0.069767</td>\n",
              "    </tr>\n",
              "    <tr>\n",
              "      <th>Moving violation</th>\n",
              "      <td>209.0</td>\n",
              "      <td>88.0</td>\n",
              "      <td>118.0</td>\n",
              "      <td>3.0</td>\n",
              "      <td>1.340909</td>\n",
              "      <td>0.014354</td>\n",
              "    </tr>\n",
              "    <tr>\n",
              "      <th>Other</th>\n",
              "      <td>13.0</td>\n",
              "      <td>6.0</td>\n",
              "      <td>6.0</td>\n",
              "      <td>1.0</td>\n",
              "      <td>1.000000</td>\n",
              "      <td>0.076923</td>\n",
              "    </tr>\n",
              "    <tr>\n",
              "      <th rowspan=\"5\" valign=\"top\">White</th>\n",
              "      <th>DUI</th>\n",
              "      <td>693.0</td>\n",
              "      <td>381.0</td>\n",
              "      <td>173.0</td>\n",
              "      <td>139.0</td>\n",
              "      <td>0.454068</td>\n",
              "      <td>0.200577</td>\n",
              "    </tr>\n",
              "    <tr>\n",
              "      <th>Equipment</th>\n",
              "      <td>49073.0</td>\n",
              "      <td>40700.0</td>\n",
              "      <td>7756.0</td>\n",
              "      <td>599.0</td>\n",
              "      <td>0.190565</td>\n",
              "      <td>0.012206</td>\n",
              "    </tr>\n",
              "    <tr>\n",
              "      <th>Moving violation</th>\n",
              "      <td>203009.0</td>\n",
              "      <td>116107.0</td>\n",
              "      <td>85105.0</td>\n",
              "      <td>1749.0</td>\n",
              "      <td>0.732988</td>\n",
              "      <td>0.008615</td>\n",
              "    </tr>\n",
              "    <tr>\n",
              "      <th>Other</th>\n",
              "      <td>9407.0</td>\n",
              "      <td>3567.0</td>\n",
              "      <td>5275.0</td>\n",
              "      <td>554.0</td>\n",
              "      <td>1.478834</td>\n",
              "      <td>0.058892</td>\n",
              "    </tr>\n",
              "    <tr>\n",
              "      <th>Other (non-mapped)</th>\n",
              "      <td>2.0</td>\n",
              "      <td>1.0</td>\n",
              "      <td>1.0</td>\n",
              "      <td>0.0</td>\n",
              "      <td>1.000000</td>\n",
              "      <td>0.000000</td>\n",
              "    </tr>\n",
              "  </tbody>\n",
              "</table>\n",
              "</div>"
            ],
            "text/plain": [
              "                                 n_total  ...  arrest_rate\n",
              "driver_race violation                     ...             \n",
              "Asian       DUI                     10.0  ...     0.200000\n",
              "            Equipment              319.0  ...     0.006270\n",
              "            Moving violation      3061.0  ...     0.005554\n",
              "            Other                   61.0  ...     0.016393\n",
              "Black       DUI                     11.0  ...     0.272727\n",
              "            Equipment              893.0  ...     0.029115\n",
              "            Moving violation      4435.0  ...     0.016009\n",
              "            Other                  247.0  ...     0.048583\n",
              "Hispanic    DUI                     10.0  ...     0.200000\n",
              "            Equipment              383.0  ...     0.023499\n",
              "            Moving violation      2095.0  ...     0.012411\n",
              "            Other                   80.0  ...     0.075000\n",
              "Other       Equipment               43.0  ...     0.069767\n",
              "            Moving violation       209.0  ...     0.014354\n",
              "            Other                   13.0  ...     0.076923\n",
              "White       DUI                    693.0  ...     0.200577\n",
              "            Equipment            49073.0  ...     0.012206\n",
              "            Moving violation    203009.0  ...     0.008615\n",
              "            Other                 9407.0  ...     0.058892\n",
              "            Other (non-mapped)       2.0  ...     0.000000\n",
              "\n",
              "[20 rows x 6 columns]"
            ]
          },
          "metadata": {
            "tags": []
          },
          "execution_count": 25
        }
      ]
    },
    {
      "cell_type": "code",
      "metadata": {
        "colab": {
          "base_uri": "https://localhost:8080/",
          "height": 266
        },
        "id": "yDUphQHzWRD0",
        "outputId": "dd4b8b2e-1443-4282-dc8b-f3cc6f138682"
      },
      "source": [
        "# Create new column to represent whether the driver is white\n",
        "df_vt['is_white'] = df_vt['driver_race'] == 'White'\n",
        "\n",
        "# Remove violation with too few data points\n",
        "df_vt_filtered = df_vt[~df_vt['violation'].isin(['Other (non-mapped)', 'DUI'])]\n",
        "\n",
        "df_vt_filtered.groupby(['is_white','violation']).apply(compute_outcome_stats)\n"
      ],
      "execution_count": null,
      "outputs": [
        {
          "output_type": "execute_result",
          "data": {
            "text/html": [
              "<div>\n",
              "<style scoped>\n",
              "    .dataframe tbody tr th:only-of-type {\n",
              "        vertical-align: middle;\n",
              "    }\n",
              "\n",
              "    .dataframe tbody tr th {\n",
              "        vertical-align: top;\n",
              "    }\n",
              "\n",
              "    .dataframe thead th {\n",
              "        text-align: right;\n",
              "    }\n",
              "</style>\n",
              "<table border=\"1\" class=\"dataframe\">\n",
              "  <thead>\n",
              "    <tr style=\"text-align: right;\">\n",
              "      <th></th>\n",
              "      <th></th>\n",
              "      <th>n_total</th>\n",
              "      <th>n_warnings</th>\n",
              "      <th>n_citations</th>\n",
              "      <th>n_arrests</th>\n",
              "      <th>citations_per_warning</th>\n",
              "      <th>arrest_rate</th>\n",
              "    </tr>\n",
              "    <tr>\n",
              "      <th>is_white</th>\n",
              "      <th>violation</th>\n",
              "      <th></th>\n",
              "      <th></th>\n",
              "      <th></th>\n",
              "      <th></th>\n",
              "      <th></th>\n",
              "      <th></th>\n",
              "    </tr>\n",
              "  </thead>\n",
              "  <tbody>\n",
              "    <tr>\n",
              "      <th rowspan=\"3\" valign=\"top\">False</th>\n",
              "      <th>Equipment</th>\n",
              "      <td>1638.0</td>\n",
              "      <td>1334.0</td>\n",
              "      <td>262.0</td>\n",
              "      <td>40.0</td>\n",
              "      <td>0.196402</td>\n",
              "      <td>0.024420</td>\n",
              "    </tr>\n",
              "    <tr>\n",
              "      <th>Moving violation</th>\n",
              "      <td>9800.0</td>\n",
              "      <td>4726.0</td>\n",
              "      <td>4952.0</td>\n",
              "      <td>117.0</td>\n",
              "      <td>1.047821</td>\n",
              "      <td>0.011939</td>\n",
              "    </tr>\n",
              "    <tr>\n",
              "      <th>Other</th>\n",
              "      <td>401.0</td>\n",
              "      <td>142.0</td>\n",
              "      <td>237.0</td>\n",
              "      <td>20.0</td>\n",
              "      <td>1.669014</td>\n",
              "      <td>0.049875</td>\n",
              "    </tr>\n",
              "    <tr>\n",
              "      <th rowspan=\"3\" valign=\"top\">True</th>\n",
              "      <th>Equipment</th>\n",
              "      <td>49073.0</td>\n",
              "      <td>40700.0</td>\n",
              "      <td>7756.0</td>\n",
              "      <td>599.0</td>\n",
              "      <td>0.190565</td>\n",
              "      <td>0.012206</td>\n",
              "    </tr>\n",
              "    <tr>\n",
              "      <th>Moving violation</th>\n",
              "      <td>203009.0</td>\n",
              "      <td>116107.0</td>\n",
              "      <td>85105.0</td>\n",
              "      <td>1749.0</td>\n",
              "      <td>0.732988</td>\n",
              "      <td>0.008615</td>\n",
              "    </tr>\n",
              "    <tr>\n",
              "      <th>Other</th>\n",
              "      <td>9407.0</td>\n",
              "      <td>3567.0</td>\n",
              "      <td>5275.0</td>\n",
              "      <td>554.0</td>\n",
              "      <td>1.478834</td>\n",
              "      <td>0.058892</td>\n",
              "    </tr>\n",
              "  </tbody>\n",
              "</table>\n",
              "</div>"
            ],
            "text/plain": [
              "                            n_total  ...  arrest_rate\n",
              "is_white violation                   ...             \n",
              "False    Equipment           1638.0  ...     0.024420\n",
              "         Moving violation    9800.0  ...     0.011939\n",
              "         Other                401.0  ...     0.049875\n",
              "True     Equipment          49073.0  ...     0.012206\n",
              "         Moving violation  203009.0  ...     0.008615\n",
              "         Other               9407.0  ...     0.058892\n",
              "\n",
              "[6 rows x 6 columns]"
            ]
          },
          "metadata": {
            "tags": []
          },
          "execution_count": 28
        }
      ]
    },
    {
      "cell_type": "code",
      "metadata": {
        "colab": {
          "base_uri": "https://localhost:8080/",
          "height": 602
        },
        "id": "mfUQK1MUWWT2",
        "outputId": "6136e06d-e2f0-44c3-bfe7-11ea6046f8bb"
      },
      "source": [
        "race_stats = df_vt_filtered.groupby(['violation', 'driver_race']).apply(compute_outcome_stats).unstack()\n",
        "fig, axes = plt.subplots(nrows=1, ncols=2, figsize=figsize)\n",
        "race_stats.plot.bar(y='arrest_rate', ax=axes[0], title='Arrest Rate By Race and Violation')\n",
        "race_stats.plot.bar(y='citations_per_warning', ax=axes[1], title='Citations Per Warning By Race and Violation')"
      ],
      "execution_count": null,
      "outputs": [
        {
          "output_type": "execute_result",
          "data": {
            "text/plain": [
              "<matplotlib.axes._subplots.AxesSubplot at 0x7f6f54579250>"
            ]
          },
          "metadata": {
            "tags": []
          },
          "execution_count": 29
        },
        {
          "output_type": "display_data",
          "data": {
            "image/png": "[encoded data removed]",
            "text/plain": [
              "<Figure size 1152x576 with 2 Axes>"
            ]
          },
          "metadata": {
            "tags": [],
            "needs_background": "light"
          }
        }
      ]
    },
    {
      "cell_type": "code",
      "metadata": {
        "id": "XO9ynTpeWobV"
      },
      "source": [
        "def compute_search_stats(df):\n",
        "    \"\"\"Compute the search rate and hit rate\"\"\"\n",
        "    search_conducted = df['search_conducted']\n",
        "    contraband_found = df['contraband_found']\n",
        "    n_stops     = len(search_conducted)\n",
        "    n_searches  = sum(search_conducted)\n",
        "    n_hits      = sum(contraband_found)\n",
        "\n",
        "    # Filter out counties with too few stops\n",
        "    if (n_stops) < 50:\n",
        "        search_rate = None\n",
        "    else:\n",
        "        search_rate = n_searches / n_stops\n",
        "\n",
        "    # Filter out counties with too few searches\n",
        "    if (n_searches) < 5:\n",
        "        hit_rate = None\n",
        "    else:\n",
        "        hit_rate = n_hits / n_searches\n",
        "\n",
        "    return(pd.Series(data = {\n",
        "        'n_stops': n_stops,\n",
        "        'n_searches': n_searches,\n",
        "        'n_hits': n_hits,\n",
        "        'search_rate': search_rate,\n",
        "        'hit_rate': hit_rate\n",
        "    }))\n",
        "\n",
        "    \n"
      ],
      "execution_count": null,
      "outputs": []
    },
    {
      "cell_type": "code",
      "metadata": {
        "colab": {
          "base_uri": "https://localhost:8080/"
        },
        "id": "YIT8RSBuW7TM",
        "outputId": "931725d5-9274-4909-833c-26671a2cb33f"
      },
      "source": [
        "compute_search_stats(df_vt)"
      ],
      "execution_count": null,
      "outputs": [
        {
          "output_type": "execute_result",
          "data": {
            "text/plain": [
              "n_stops        274054.000000\n",
              "n_searches       3276.000000\n",
              "n_hits           2610.000000\n",
              "search_rate         0.011954\n",
              "hit_rate            0.796703\n",
              "dtype: float64"
            ]
          },
          "metadata": {
            "tags": []
          },
          "execution_count": 33
        }
      ]
    },
    {
      "cell_type": "code",
      "metadata": {
        "colab": {
          "base_uri": "https://localhost:8080/",
          "height": 142
        },
        "id": "5AsFWbuXW_38",
        "outputId": "278d71c9-5e46-4bc0-f2be-f881c4505a92"
      },
      "source": [
        "df_vt.groupby('driver_gender').apply(compute_search_stats)\n"
      ],
      "execution_count": null,
      "outputs": [
        {
          "output_type": "execute_result",
          "data": {
            "text/html": [
              "<div>\n",
              "<style scoped>\n",
              "    .dataframe tbody tr th:only-of-type {\n",
              "        vertical-align: middle;\n",
              "    }\n",
              "\n",
              "    .dataframe tbody tr th {\n",
              "        vertical-align: top;\n",
              "    }\n",
              "\n",
              "    .dataframe thead th {\n",
              "        text-align: right;\n",
              "    }\n",
              "</style>\n",
              "<table border=\"1\" class=\"dataframe\">\n",
              "  <thead>\n",
              "    <tr style=\"text-align: right;\">\n",
              "      <th></th>\n",
              "      <th>n_stops</th>\n",
              "      <th>n_searches</th>\n",
              "      <th>n_hits</th>\n",
              "      <th>search_rate</th>\n",
              "      <th>hit_rate</th>\n",
              "    </tr>\n",
              "    <tr>\n",
              "      <th>driver_gender</th>\n",
              "      <th></th>\n",
              "      <th></th>\n",
              "      <th></th>\n",
              "      <th></th>\n",
              "      <th></th>\n",
              "    </tr>\n",
              "  </thead>\n",
              "  <tbody>\n",
              "    <tr>\n",
              "      <th>F</th>\n",
              "      <td>99382.0</td>\n",
              "      <td>646.0</td>\n",
              "      <td>510.0</td>\n",
              "      <td>0.006500</td>\n",
              "      <td>0.789474</td>\n",
              "    </tr>\n",
              "    <tr>\n",
              "      <th>M</th>\n",
              "      <td>174672.0</td>\n",
              "      <td>2630.0</td>\n",
              "      <td>2100.0</td>\n",
              "      <td>0.015057</td>\n",
              "      <td>0.798479</td>\n",
              "    </tr>\n",
              "  </tbody>\n",
              "</table>\n",
              "</div>"
            ],
            "text/plain": [
              "                n_stops  n_searches  n_hits  search_rate  hit_rate\n",
              "driver_gender                                                     \n",
              "F               99382.0       646.0   510.0     0.006500  0.789474\n",
              "M              174672.0      2630.0  2100.0     0.015057  0.798479"
            ]
          },
          "metadata": {
            "tags": []
          },
          "execution_count": 34
        }
      ]
    },
    {
      "cell_type": "code",
      "metadata": {
        "colab": {
          "base_uri": "https://localhost:8080/",
          "height": 390
        },
        "id": "NfQZDCOcXC9c",
        "outputId": "f6cb2849-f0c1-4b1f-e97a-4500773ebf5d"
      },
      "source": [
        "age_groups = pd.cut(df_vt[\"driver_age\"], np.arange(15, 70, 5))\n",
        "df_vt.groupby(age_groups).apply(compute_search_stats)"
      ],
      "execution_count": null,
      "outputs": [
        {
          "output_type": "execute_result",
          "data": {
            "text/html": [
              "<div>\n",
              "<style scoped>\n",
              "    .dataframe tbody tr th:only-of-type {\n",
              "        vertical-align: middle;\n",
              "    }\n",
              "\n",
              "    .dataframe tbody tr th {\n",
              "        vertical-align: top;\n",
              "    }\n",
              "\n",
              "    .dataframe thead th {\n",
              "        text-align: right;\n",
              "    }\n",
              "</style>\n",
              "<table border=\"1\" class=\"dataframe\">\n",
              "  <thead>\n",
              "    <tr style=\"text-align: right;\">\n",
              "      <th></th>\n",
              "      <th>n_stops</th>\n",
              "      <th>n_searches</th>\n",
              "      <th>n_hits</th>\n",
              "      <th>search_rate</th>\n",
              "      <th>hit_rate</th>\n",
              "    </tr>\n",
              "    <tr>\n",
              "      <th>driver_age</th>\n",
              "      <th></th>\n",
              "      <th></th>\n",
              "      <th></th>\n",
              "      <th></th>\n",
              "      <th></th>\n",
              "    </tr>\n",
              "  </thead>\n",
              "  <tbody>\n",
              "    <tr>\n",
              "      <th>(15, 20]</th>\n",
              "      <td>27524.0</td>\n",
              "      <td>673.0</td>\n",
              "      <td>570.0</td>\n",
              "      <td>0.024451</td>\n",
              "      <td>0.846954</td>\n",
              "    </tr>\n",
              "    <tr>\n",
              "      <th>(20, 25]</th>\n",
              "      <td>43460.0</td>\n",
              "      <td>1003.0</td>\n",
              "      <td>840.0</td>\n",
              "      <td>0.023079</td>\n",
              "      <td>0.837488</td>\n",
              "    </tr>\n",
              "    <tr>\n",
              "      <th>(25, 30]</th>\n",
              "      <td>34898.0</td>\n",
              "      <td>634.0</td>\n",
              "      <td>502.0</td>\n",
              "      <td>0.018167</td>\n",
              "      <td>0.791798</td>\n",
              "    </tr>\n",
              "    <tr>\n",
              "      <th>(30, 35]</th>\n",
              "      <td>27856.0</td>\n",
              "      <td>375.0</td>\n",
              "      <td>288.0</td>\n",
              "      <td>0.013462</td>\n",
              "      <td>0.768000</td>\n",
              "    </tr>\n",
              "    <tr>\n",
              "      <th>(35, 40]</th>\n",
              "      <td>23313.0</td>\n",
              "      <td>215.0</td>\n",
              "      <td>160.0</td>\n",
              "      <td>0.009222</td>\n",
              "      <td>0.744186</td>\n",
              "    </tr>\n",
              "    <tr>\n",
              "      <th>(40, 45]</th>\n",
              "      <td>24170.0</td>\n",
              "      <td>127.0</td>\n",
              "      <td>88.0</td>\n",
              "      <td>0.005254</td>\n",
              "      <td>0.692913</td>\n",
              "    </tr>\n",
              "    <tr>\n",
              "      <th>(45, 50]</th>\n",
              "      <td>24205.0</td>\n",
              "      <td>106.0</td>\n",
              "      <td>61.0</td>\n",
              "      <td>0.004379</td>\n",
              "      <td>0.575472</td>\n",
              "    </tr>\n",
              "    <tr>\n",
              "      <th>(50, 55]</th>\n",
              "      <td>22607.0</td>\n",
              "      <td>77.0</td>\n",
              "      <td>53.0</td>\n",
              "      <td>0.003406</td>\n",
              "      <td>0.688312</td>\n",
              "    </tr>\n",
              "    <tr>\n",
              "      <th>(55, 60]</th>\n",
              "      <td>17570.0</td>\n",
              "      <td>36.0</td>\n",
              "      <td>30.0</td>\n",
              "      <td>0.002049</td>\n",
              "      <td>0.833333</td>\n",
              "    </tr>\n",
              "    <tr>\n",
              "      <th>(60, 65]</th>\n",
              "      <td>12566.0</td>\n",
              "      <td>13.0</td>\n",
              "      <td>6.0</td>\n",
              "      <td>0.001035</td>\n",
              "      <td>0.461538</td>\n",
              "    </tr>\n",
              "  </tbody>\n",
              "</table>\n",
              "</div>"
            ],
            "text/plain": [
              "            n_stops  n_searches  n_hits  search_rate  hit_rate\n",
              "driver_age                                                    \n",
              "(15, 20]    27524.0       673.0   570.0     0.024451  0.846954\n",
              "(20, 25]    43460.0      1003.0   840.0     0.023079  0.837488\n",
              "(25, 30]    34898.0       634.0   502.0     0.018167  0.791798\n",
              "(30, 35]    27856.0       375.0   288.0     0.013462  0.768000\n",
              "(35, 40]    23313.0       215.0   160.0     0.009222  0.744186\n",
              "(40, 45]    24170.0       127.0    88.0     0.005254  0.692913\n",
              "(45, 50]    24205.0       106.0    61.0     0.004379  0.575472\n",
              "(50, 55]    22607.0        77.0    53.0     0.003406  0.688312\n",
              "(55, 60]    17570.0        36.0    30.0     0.002049  0.833333\n",
              "(60, 65]    12566.0        13.0     6.0     0.001035  0.461538"
            ]
          },
          "metadata": {
            "tags": []
          },
          "execution_count": 35
        }
      ]
    },
    {
      "cell_type": "code",
      "metadata": {
        "colab": {
          "base_uri": "https://localhost:8080/",
          "height": 235
        },
        "id": "scdF4GvMXGht",
        "outputId": "e8c84d6e-f3e1-4e17-eb66-b0260a75cc00"
      },
      "source": [
        "df_vt.groupby('driver_race').apply(compute_search_stats)\n"
      ],
      "execution_count": null,
      "outputs": [
        {
          "output_type": "execute_result",
          "data": {
            "text/html": [
              "<div>\n",
              "<style scoped>\n",
              "    .dataframe tbody tr th:only-of-type {\n",
              "        vertical-align: middle;\n",
              "    }\n",
              "\n",
              "    .dataframe tbody tr th {\n",
              "        vertical-align: top;\n",
              "    }\n",
              "\n",
              "    .dataframe thead th {\n",
              "        text-align: right;\n",
              "    }\n",
              "</style>\n",
              "<table border=\"1\" class=\"dataframe\">\n",
              "  <thead>\n",
              "    <tr style=\"text-align: right;\">\n",
              "      <th></th>\n",
              "      <th>n_stops</th>\n",
              "      <th>n_searches</th>\n",
              "      <th>n_hits</th>\n",
              "      <th>search_rate</th>\n",
              "      <th>hit_rate</th>\n",
              "    </tr>\n",
              "    <tr>\n",
              "      <th>driver_race</th>\n",
              "      <th></th>\n",
              "      <th></th>\n",
              "      <th></th>\n",
              "      <th></th>\n",
              "      <th></th>\n",
              "    </tr>\n",
              "  </thead>\n",
              "  <tbody>\n",
              "    <tr>\n",
              "      <th>Asian</th>\n",
              "      <td>3451.0</td>\n",
              "      <td>28.0</td>\n",
              "      <td>22.0</td>\n",
              "      <td>0.008114</td>\n",
              "      <td>0.785714</td>\n",
              "    </tr>\n",
              "    <tr>\n",
              "      <th>Black</th>\n",
              "      <td>5586.0</td>\n",
              "      <td>284.0</td>\n",
              "      <td>195.0</td>\n",
              "      <td>0.050841</td>\n",
              "      <td>0.686620</td>\n",
              "    </tr>\n",
              "    <tr>\n",
              "      <th>Hispanic</th>\n",
              "      <td>2568.0</td>\n",
              "      <td>106.0</td>\n",
              "      <td>69.0</td>\n",
              "      <td>0.041277</td>\n",
              "      <td>0.650943</td>\n",
              "    </tr>\n",
              "    <tr>\n",
              "      <th>Other</th>\n",
              "      <td>265.0</td>\n",
              "      <td>10.0</td>\n",
              "      <td>6.0</td>\n",
              "      <td>0.037736</td>\n",
              "      <td>0.600000</td>\n",
              "    </tr>\n",
              "    <tr>\n",
              "      <th>White</th>\n",
              "      <td>262184.0</td>\n",
              "      <td>2848.0</td>\n",
              "      <td>2318.0</td>\n",
              "      <td>0.010863</td>\n",
              "      <td>0.813904</td>\n",
              "    </tr>\n",
              "  </tbody>\n",
              "</table>\n",
              "</div>"
            ],
            "text/plain": [
              "              n_stops  n_searches  n_hits  search_rate  hit_rate\n",
              "driver_race                                                     \n",
              "Asian          3451.0        28.0    22.0     0.008114  0.785714\n",
              "Black          5586.0       284.0   195.0     0.050841  0.686620\n",
              "Hispanic       2568.0       106.0    69.0     0.041277  0.650943\n",
              "Other           265.0        10.0     6.0     0.037736  0.600000\n",
              "White        262184.0      2848.0  2318.0     0.010863  0.813904"
            ]
          },
          "metadata": {
            "tags": []
          },
          "execution_count": 36
        }
      ]
    }
  ]
}